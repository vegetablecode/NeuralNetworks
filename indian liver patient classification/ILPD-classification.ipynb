{
 "cells": [
  {
   "cell_type": "code",
   "execution_count": 1,
   "metadata": {},
   "outputs": [],
   "source": [
    "import pandas as pd\n",
    "import numpy as np\n",
    "\n",
    "from sklearn.utils import shuffle\n",
    "from sklearn.preprocessing import StandardScaler, OneHotEncoder\n",
    "from sklearn.neural_network import MLPClassifier\n",
    "from sklearn.model_selection import train_test_split\n",
    "from sklearn.metrics import classification_report, confusion_matrix, accuracy_score\n",
    "from sklearn.datasets import load_iris\n",
    "from sklearn.feature_selection import SelectKBest\n",
    "from sklearn.feature_selection import chi2, f_classif\n",
    "\n",
    "import seaborn as sns\n",
    "\n",
    "from matplotlib.ticker import FuncFormatter\n",
    "import matplotlib.pyplot as plt\n",
    "plt.rcParams['figure.figsize'] = [12, 8]"
   ]
  },
  {
   "cell_type": "markdown",
   "metadata": {},
   "source": [
    "# Data Set information"
   ]
  },
  {
   "cell_type": "markdown",
   "metadata": {},
   "source": [
    "This data set contains 416 liver patient records and 167 non liver patient records.The data set was collected from north east of Andhra Pradesh, India. Selector is a class label used to divide into groups(liver patient or not). This data set contains 441 male patient records and 142 female patient records.\n",
    "\n",
    "Any patient whose age exceeded 89 is listed as being of age \"90\".\n",
    "\n",
    "## Attributes\n",
    "1. Age - Age of the patient\n",
    "2. Gender - Gender of the patient\n",
    "3. TB - Total Bilirubin\n",
    "4. DB - Direct Bilirubin\n",
    "5. Alkphos - Alkaline Phosphotase\n",
    "6. Sgpt - Alamine Aminotransferase\n",
    "7. Sgot - Aspartate Aminotransferase\n",
    "8. TP - Total Protiens\n",
    "9. ALB - Albumin\n",
    "10. A/G Ratio - Albumin and Globulin Ratio\n",
    "11. Selector field used to split the data into two sets (labeled by the experts)"
   ]
  },
  {
   "cell_type": "markdown",
   "metadata": {},
   "source": [
    "# Read the data"
   ]
  },
  {
   "cell_type": "code",
   "execution_count": 2,
   "metadata": {},
   "outputs": [
    {
     "name": "stdout",
     "output_type": "stream",
     "text": [
      "Data shape:  (583, 11)\n"
     ]
    },
    {
     "data": {
      "text/html": [
       "<div>\n",
       "<style scoped>\n",
       "    .dataframe tbody tr th:only-of-type {\n",
       "        vertical-align: middle;\n",
       "    }\n",
       "\n",
       "    .dataframe tbody tr th {\n",
       "        vertical-align: top;\n",
       "    }\n",
       "\n",
       "    .dataframe thead th {\n",
       "        text-align: right;\n",
       "    }\n",
       "</style>\n",
       "<table border=\"1\" class=\"dataframe\">\n",
       "  <thead>\n",
       "    <tr style=\"text-align: right;\">\n",
       "      <th></th>\n",
       "      <th>Age</th>\n",
       "      <th>Gender</th>\n",
       "      <th>TB</th>\n",
       "      <th>DB</th>\n",
       "      <th>ALKPHOS</th>\n",
       "      <th>SGPT</th>\n",
       "      <th>SGOT</th>\n",
       "      <th>TP</th>\n",
       "      <th>ALB</th>\n",
       "      <th>AG Ratio</th>\n",
       "      <th>selector</th>\n",
       "    </tr>\n",
       "  </thead>\n",
       "  <tbody>\n",
       "    <tr>\n",
       "      <th>0</th>\n",
       "      <td>65</td>\n",
       "      <td>Female</td>\n",
       "      <td>0.7</td>\n",
       "      <td>0.1</td>\n",
       "      <td>187</td>\n",
       "      <td>16</td>\n",
       "      <td>18</td>\n",
       "      <td>6.8</td>\n",
       "      <td>3.3</td>\n",
       "      <td>0.90</td>\n",
       "      <td>1</td>\n",
       "    </tr>\n",
       "    <tr>\n",
       "      <th>1</th>\n",
       "      <td>62</td>\n",
       "      <td>Male</td>\n",
       "      <td>10.9</td>\n",
       "      <td>5.5</td>\n",
       "      <td>699</td>\n",
       "      <td>64</td>\n",
       "      <td>100</td>\n",
       "      <td>7.5</td>\n",
       "      <td>3.2</td>\n",
       "      <td>0.74</td>\n",
       "      <td>1</td>\n",
       "    </tr>\n",
       "    <tr>\n",
       "      <th>2</th>\n",
       "      <td>62</td>\n",
       "      <td>Male</td>\n",
       "      <td>7.3</td>\n",
       "      <td>4.1</td>\n",
       "      <td>490</td>\n",
       "      <td>60</td>\n",
       "      <td>68</td>\n",
       "      <td>7.0</td>\n",
       "      <td>3.3</td>\n",
       "      <td>0.89</td>\n",
       "      <td>1</td>\n",
       "    </tr>\n",
       "    <tr>\n",
       "      <th>3</th>\n",
       "      <td>58</td>\n",
       "      <td>Male</td>\n",
       "      <td>1.0</td>\n",
       "      <td>0.4</td>\n",
       "      <td>182</td>\n",
       "      <td>14</td>\n",
       "      <td>20</td>\n",
       "      <td>6.8</td>\n",
       "      <td>3.4</td>\n",
       "      <td>1.00</td>\n",
       "      <td>1</td>\n",
       "    </tr>\n",
       "    <tr>\n",
       "      <th>4</th>\n",
       "      <td>72</td>\n",
       "      <td>Male</td>\n",
       "      <td>3.9</td>\n",
       "      <td>2.0</td>\n",
       "      <td>195</td>\n",
       "      <td>27</td>\n",
       "      <td>59</td>\n",
       "      <td>7.3</td>\n",
       "      <td>2.4</td>\n",
       "      <td>0.40</td>\n",
       "      <td>1</td>\n",
       "    </tr>\n",
       "  </tbody>\n",
       "</table>\n",
       "</div>"
      ],
      "text/plain": [
       "   Age  Gender    TB   DB  ALKPHOS  SGPT  SGOT   TP  ALB  AG Ratio  selector\n",
       "0   65  Female   0.7  0.1      187    16    18  6.8  3.3      0.90         1\n",
       "1   62    Male  10.9  5.5      699    64   100  7.5  3.2      0.74         1\n",
       "2   62    Male   7.3  4.1      490    60    68  7.0  3.3      0.89         1\n",
       "3   58    Male   1.0  0.4      182    14    20  6.8  3.4      1.00         1\n",
       "4   72    Male   3.9  2.0      195    27    59  7.3  2.4      0.40         1"
      ]
     },
     "execution_count": 2,
     "metadata": {},
     "output_type": "execute_result"
    }
   ],
   "source": [
    "# dataset location\n",
    "dataset_location = \"./dataset/ilpd_dataset.csv\"\n",
    "\n",
    "# column names\n",
    "names = ['Age', 'Gender', 'TB', 'DB', 'ALKPHOS', 'SGPT', 'SGOT', 'TP', 'ALB', 'AG Ratio', 'selector']\n",
    "\n",
    "# read dataset to pandas dataframe\n",
    "df = pd.read_csv(dataset_location, names=names);\n",
    "\n",
    "# show first five cols of the dataset\n",
    "print(\"Data shape: \", df.shape)\n",
    "df.head()"
   ]
  },
  {
   "cell_type": "code",
   "execution_count": 3,
   "metadata": {},
   "outputs": [
    {
     "name": "stdout",
     "output_type": "stream",
     "text": [
      "<class 'pandas.core.frame.DataFrame'>\n",
      "RangeIndex: 583 entries, 0 to 582\n",
      "Data columns (total 11 columns):\n",
      " #   Column    Non-Null Count  Dtype  \n",
      "---  ------    --------------  -----  \n",
      " 0   Age       583 non-null    int64  \n",
      " 1   Gender    583 non-null    object \n",
      " 2   TB        583 non-null    float64\n",
      " 3   DB        583 non-null    float64\n",
      " 4   ALKPHOS   583 non-null    int64  \n",
      " 5   SGPT      583 non-null    int64  \n",
      " 6   SGOT      583 non-null    int64  \n",
      " 7   TP        583 non-null    float64\n",
      " 8   ALB       583 non-null    float64\n",
      " 9   AG Ratio  579 non-null    float64\n",
      " 10  selector  583 non-null    int64  \n",
      "dtypes: float64(5), int64(5), object(1)\n",
      "memory usage: 50.2+ KB\n"
     ]
    }
   ],
   "source": [
    "df.info()"
   ]
  },
  {
   "cell_type": "code",
   "execution_count": 4,
   "metadata": {},
   "outputs": [
    {
     "data": {
      "text/html": [
       "<div>\n",
       "<style scoped>\n",
       "    .dataframe tbody tr th:only-of-type {\n",
       "        vertical-align: middle;\n",
       "    }\n",
       "\n",
       "    .dataframe tbody tr th {\n",
       "        vertical-align: top;\n",
       "    }\n",
       "\n",
       "    .dataframe thead th {\n",
       "        text-align: right;\n",
       "    }\n",
       "</style>\n",
       "<table border=\"1\" class=\"dataframe\">\n",
       "  <thead>\n",
       "    <tr style=\"text-align: right;\">\n",
       "      <th></th>\n",
       "      <th>Age</th>\n",
       "      <th>TB</th>\n",
       "      <th>DB</th>\n",
       "      <th>ALKPHOS</th>\n",
       "      <th>SGPT</th>\n",
       "      <th>SGOT</th>\n",
       "      <th>TP</th>\n",
       "      <th>ALB</th>\n",
       "      <th>AG Ratio</th>\n",
       "      <th>selector</th>\n",
       "    </tr>\n",
       "  </thead>\n",
       "  <tbody>\n",
       "    <tr>\n",
       "      <th>count</th>\n",
       "      <td>583.000000</td>\n",
       "      <td>583.000000</td>\n",
       "      <td>583.000000</td>\n",
       "      <td>583.000000</td>\n",
       "      <td>583.000000</td>\n",
       "      <td>583.000000</td>\n",
       "      <td>583.000000</td>\n",
       "      <td>583.000000</td>\n",
       "      <td>579.000000</td>\n",
       "      <td>583.000000</td>\n",
       "    </tr>\n",
       "    <tr>\n",
       "      <th>mean</th>\n",
       "      <td>44.746141</td>\n",
       "      <td>3.298799</td>\n",
       "      <td>1.486106</td>\n",
       "      <td>290.576329</td>\n",
       "      <td>80.713551</td>\n",
       "      <td>109.910806</td>\n",
       "      <td>6.483190</td>\n",
       "      <td>3.141852</td>\n",
       "      <td>0.947064</td>\n",
       "      <td>1.286449</td>\n",
       "    </tr>\n",
       "    <tr>\n",
       "      <th>std</th>\n",
       "      <td>16.189833</td>\n",
       "      <td>6.209522</td>\n",
       "      <td>2.808498</td>\n",
       "      <td>242.937989</td>\n",
       "      <td>182.620356</td>\n",
       "      <td>288.918529</td>\n",
       "      <td>1.085451</td>\n",
       "      <td>0.795519</td>\n",
       "      <td>0.319592</td>\n",
       "      <td>0.452490</td>\n",
       "    </tr>\n",
       "    <tr>\n",
       "      <th>min</th>\n",
       "      <td>4.000000</td>\n",
       "      <td>0.400000</td>\n",
       "      <td>0.100000</td>\n",
       "      <td>63.000000</td>\n",
       "      <td>10.000000</td>\n",
       "      <td>10.000000</td>\n",
       "      <td>2.700000</td>\n",
       "      <td>0.900000</td>\n",
       "      <td>0.300000</td>\n",
       "      <td>1.000000</td>\n",
       "    </tr>\n",
       "    <tr>\n",
       "      <th>25%</th>\n",
       "      <td>33.000000</td>\n",
       "      <td>0.800000</td>\n",
       "      <td>0.200000</td>\n",
       "      <td>175.500000</td>\n",
       "      <td>23.000000</td>\n",
       "      <td>25.000000</td>\n",
       "      <td>5.800000</td>\n",
       "      <td>2.600000</td>\n",
       "      <td>0.700000</td>\n",
       "      <td>1.000000</td>\n",
       "    </tr>\n",
       "    <tr>\n",
       "      <th>50%</th>\n",
       "      <td>45.000000</td>\n",
       "      <td>1.000000</td>\n",
       "      <td>0.300000</td>\n",
       "      <td>208.000000</td>\n",
       "      <td>35.000000</td>\n",
       "      <td>42.000000</td>\n",
       "      <td>6.600000</td>\n",
       "      <td>3.100000</td>\n",
       "      <td>0.930000</td>\n",
       "      <td>1.000000</td>\n",
       "    </tr>\n",
       "    <tr>\n",
       "      <th>75%</th>\n",
       "      <td>58.000000</td>\n",
       "      <td>2.600000</td>\n",
       "      <td>1.300000</td>\n",
       "      <td>298.000000</td>\n",
       "      <td>60.500000</td>\n",
       "      <td>87.000000</td>\n",
       "      <td>7.200000</td>\n",
       "      <td>3.800000</td>\n",
       "      <td>1.100000</td>\n",
       "      <td>2.000000</td>\n",
       "    </tr>\n",
       "    <tr>\n",
       "      <th>max</th>\n",
       "      <td>90.000000</td>\n",
       "      <td>75.000000</td>\n",
       "      <td>19.700000</td>\n",
       "      <td>2110.000000</td>\n",
       "      <td>2000.000000</td>\n",
       "      <td>4929.000000</td>\n",
       "      <td>9.600000</td>\n",
       "      <td>5.500000</td>\n",
       "      <td>2.800000</td>\n",
       "      <td>2.000000</td>\n",
       "    </tr>\n",
       "  </tbody>\n",
       "</table>\n",
       "</div>"
      ],
      "text/plain": [
       "              Age          TB          DB      ALKPHOS         SGPT  \\\n",
       "count  583.000000  583.000000  583.000000   583.000000   583.000000   \n",
       "mean    44.746141    3.298799    1.486106   290.576329    80.713551   \n",
       "std     16.189833    6.209522    2.808498   242.937989   182.620356   \n",
       "min      4.000000    0.400000    0.100000    63.000000    10.000000   \n",
       "25%     33.000000    0.800000    0.200000   175.500000    23.000000   \n",
       "50%     45.000000    1.000000    0.300000   208.000000    35.000000   \n",
       "75%     58.000000    2.600000    1.300000   298.000000    60.500000   \n",
       "max     90.000000   75.000000   19.700000  2110.000000  2000.000000   \n",
       "\n",
       "              SGOT          TP         ALB    AG Ratio    selector  \n",
       "count   583.000000  583.000000  583.000000  579.000000  583.000000  \n",
       "mean    109.910806    6.483190    3.141852    0.947064    1.286449  \n",
       "std     288.918529    1.085451    0.795519    0.319592    0.452490  \n",
       "min      10.000000    2.700000    0.900000    0.300000    1.000000  \n",
       "25%      25.000000    5.800000    2.600000    0.700000    1.000000  \n",
       "50%      42.000000    6.600000    3.100000    0.930000    1.000000  \n",
       "75%      87.000000    7.200000    3.800000    1.100000    2.000000  \n",
       "max    4929.000000    9.600000    5.500000    2.800000    2.000000  "
      ]
     },
     "execution_count": 4,
     "metadata": {},
     "output_type": "execute_result"
    }
   ],
   "source": [
    "df.describe()"
   ]
  },
  {
   "cell_type": "code",
   "execution_count": 5,
   "metadata": {},
   "outputs": [
    {
     "data": {
      "text/plain": [
       "array([[<matplotlib.axes._subplots.AxesSubplot object at 0x1a1d13c110>,\n",
       "        <matplotlib.axes._subplots.AxesSubplot object at 0x1a1cb292d0>,\n",
       "        <matplotlib.axes._subplots.AxesSubplot object at 0x1a1f2bcd50>],\n",
       "       [<matplotlib.axes._subplots.AxesSubplot object at 0x1a1f2f2a10>,\n",
       "        <matplotlib.axes._subplots.AxesSubplot object at 0x1a1f32fd50>,\n",
       "        <matplotlib.axes._subplots.AxesSubplot object at 0x1a1f365a10>],\n",
       "       [<matplotlib.axes._subplots.AxesSubplot object at 0x1a1f3a2e50>,\n",
       "        <matplotlib.axes._subplots.AxesSubplot object at 0x1a1f3dba10>,\n",
       "        <matplotlib.axes._subplots.AxesSubplot object at 0x1a1f3e5590>],\n",
       "       [<matplotlib.axes._subplots.AxesSubplot object at 0x1a1f418f10>,\n",
       "        <matplotlib.axes._subplots.AxesSubplot object at 0x1a1f48ddd0>,\n",
       "        <matplotlib.axes._subplots.AxesSubplot object at 0x1a1f4c2a90>]],\n",
       "      dtype=object)"
      ]
     },
     "execution_count": 5,
     "metadata": {},
     "output_type": "execute_result"
    },
    {
     "data": {
      "image/png": "[encoded data removed]",
      "text/plain": [
       "<Figure size 1008x792 with 12 Axes>"
      ]
     },
     "metadata": {
      "needs_background": "light"
     },
     "output_type": "display_data"
    }
   ],
   "source": [
    "df.hist(figsize=(14,11))"
   ]
  },
  {
   "cell_type": "code",
   "execution_count": 6,
   "metadata": {},
   "outputs": [
    {
     "data": {
      "text/plain": [
       "Text(0, 0.5, 'Frequency')"
      ]
     },
     "execution_count": 6,
     "metadata": {},
     "output_type": "execute_result"
    },
    {
     "data": {
      "image/png": "[encoded data removed]",
      "text/plain": [
       "<Figure size 864x576 with 1 Axes>"
      ]
     },
     "metadata": {
      "needs_background": "light"
     },
     "output_type": "display_data"
    }
   ],
   "source": [
    "numb_of_classes = pd.value_counts(df['selector'], sort = True).sort_index()\n",
    "numb_of_classes.plot(kind = 'bar')\n",
    "plt.title(\"ILPD Histogram\")\n",
    "plt.xlabel(\"Dataset\")\n",
    "plt.ylabel(\"Frequency\")"
   ]
  },
  {
   "cell_type": "markdown",
   "metadata": {},
   "source": [
    "# Preprocessing"
   ]
  },
  {
   "cell_type": "markdown",
   "metadata": {},
   "source": [
    "## change non-numerical values to integers"
   ]
  },
  {
   "cell_type": "code",
   "execution_count": 7,
   "metadata": {},
   "outputs": [
    {
     "data": {
      "text/plain": [
       "array(['Female', 'Male'], dtype=object)"
      ]
     },
     "execution_count": 7,
     "metadata": {},
     "output_type": "execute_result"
    }
   ],
   "source": [
    "# check unique values\n",
    "df['Gender'].unique()"
   ]
  },
  {
   "cell_type": "code",
   "execution_count": 8,
   "metadata": {},
   "outputs": [
    {
     "data": {
      "text/html": [
       "<div>\n",
       "<style scoped>\n",
       "    .dataframe tbody tr th:only-of-type {\n",
       "        vertical-align: middle;\n",
       "    }\n",
       "\n",
       "    .dataframe tbody tr th {\n",
       "        vertical-align: top;\n",
       "    }\n",
       "\n",
       "    .dataframe thead th {\n",
       "        text-align: right;\n",
       "    }\n",
       "</style>\n",
       "<table border=\"1\" class=\"dataframe\">\n",
       "  <thead>\n",
       "    <tr style=\"text-align: right;\">\n",
       "      <th></th>\n",
       "      <th>Age</th>\n",
       "      <th>TB</th>\n",
       "      <th>DB</th>\n",
       "      <th>ALKPHOS</th>\n",
       "      <th>SGPT</th>\n",
       "      <th>SGOT</th>\n",
       "      <th>TP</th>\n",
       "      <th>ALB</th>\n",
       "      <th>AG Ratio</th>\n",
       "      <th>selector</th>\n",
       "      <th>Gender_Female</th>\n",
       "      <th>Gender_Male</th>\n",
       "    </tr>\n",
       "  </thead>\n",
       "  <tbody>\n",
       "    <tr>\n",
       "      <th>0</th>\n",
       "      <td>65</td>\n",
       "      <td>0.7</td>\n",
       "      <td>0.1</td>\n",
       "      <td>187</td>\n",
       "      <td>16</td>\n",
       "      <td>18</td>\n",
       "      <td>6.8</td>\n",
       "      <td>3.3</td>\n",
       "      <td>0.90</td>\n",
       "      <td>1</td>\n",
       "      <td>1</td>\n",
       "      <td>0</td>\n",
       "    </tr>\n",
       "    <tr>\n",
       "      <th>1</th>\n",
       "      <td>62</td>\n",
       "      <td>10.9</td>\n",
       "      <td>5.5</td>\n",
       "      <td>699</td>\n",
       "      <td>64</td>\n",
       "      <td>100</td>\n",
       "      <td>7.5</td>\n",
       "      <td>3.2</td>\n",
       "      <td>0.74</td>\n",
       "      <td>1</td>\n",
       "      <td>0</td>\n",
       "      <td>1</td>\n",
       "    </tr>\n",
       "    <tr>\n",
       "      <th>2</th>\n",
       "      <td>62</td>\n",
       "      <td>7.3</td>\n",
       "      <td>4.1</td>\n",
       "      <td>490</td>\n",
       "      <td>60</td>\n",
       "      <td>68</td>\n",
       "      <td>7.0</td>\n",
       "      <td>3.3</td>\n",
       "      <td>0.89</td>\n",
       "      <td>1</td>\n",
       "      <td>0</td>\n",
       "      <td>1</td>\n",
       "    </tr>\n",
       "    <tr>\n",
       "      <th>3</th>\n",
       "      <td>58</td>\n",
       "      <td>1.0</td>\n",
       "      <td>0.4</td>\n",
       "      <td>182</td>\n",
       "      <td>14</td>\n",
       "      <td>20</td>\n",
       "      <td>6.8</td>\n",
       "      <td>3.4</td>\n",
       "      <td>1.00</td>\n",
       "      <td>1</td>\n",
       "      <td>0</td>\n",
       "      <td>1</td>\n",
       "    </tr>\n",
       "    <tr>\n",
       "      <th>4</th>\n",
       "      <td>72</td>\n",
       "      <td>3.9</td>\n",
       "      <td>2.0</td>\n",
       "      <td>195</td>\n",
       "      <td>27</td>\n",
       "      <td>59</td>\n",
       "      <td>7.3</td>\n",
       "      <td>2.4</td>\n",
       "      <td>0.40</td>\n",
       "      <td>1</td>\n",
       "      <td>0</td>\n",
       "      <td>1</td>\n",
       "    </tr>\n",
       "  </tbody>\n",
       "</table>\n",
       "</div>"
      ],
      "text/plain": [
       "   Age    TB   DB  ALKPHOS  SGPT  SGOT   TP  ALB  AG Ratio  selector  \\\n",
       "0   65   0.7  0.1      187    16    18  6.8  3.3      0.90         1   \n",
       "1   62  10.9  5.5      699    64   100  7.5  3.2      0.74         1   \n",
       "2   62   7.3  4.1      490    60    68  7.0  3.3      0.89         1   \n",
       "3   58   1.0  0.4      182    14    20  6.8  3.4      1.00         1   \n",
       "4   72   3.9  2.0      195    27    59  7.3  2.4      0.40         1   \n",
       "\n",
       "   Gender_Female  Gender_Male  \n",
       "0              1            0  \n",
       "1              0            1  \n",
       "2              0            1  \n",
       "3              0            1  \n",
       "4              0            1  "
      ]
     },
     "execution_count": 8,
     "metadata": {},
     "output_type": "execute_result"
    }
   ],
   "source": [
    "# one hot value encoding\n",
    "df = pd.get_dummies(df)\n",
    "names = df.columns\n",
    "\n",
    "df.head()"
   ]
  },
  {
   "cell_type": "markdown",
   "metadata": {},
   "source": [
    "## remove empty values"
   ]
  },
  {
   "cell_type": "code",
   "execution_count": 9,
   "metadata": {},
   "outputs": [
    {
     "name": "stdout",
     "output_type": "stream",
     "text": [
      "<class 'pandas.core.frame.DataFrame'>\n",
      "RangeIndex: 583 entries, 0 to 582\n",
      "Data columns (total 12 columns):\n",
      " #   Column         Non-Null Count  Dtype  \n",
      "---  ------         --------------  -----  \n",
      " 0   Age            583 non-null    int64  \n",
      " 1   TB             583 non-null    float64\n",
      " 2   DB             583 non-null    float64\n",
      " 3   ALKPHOS        583 non-null    int64  \n",
      " 4   SGPT           583 non-null    int64  \n",
      " 5   SGOT           583 non-null    int64  \n",
      " 6   TP             583 non-null    float64\n",
      " 7   ALB            583 non-null    float64\n",
      " 8   AG Ratio       583 non-null    float64\n",
      " 9   selector       583 non-null    int64  \n",
      " 10  Gender_Female  583 non-null    uint8  \n",
      " 11  Gender_Male    583 non-null    uint8  \n",
      "dtypes: float64(5), int64(5), uint8(2)\n",
      "memory usage: 46.8 KB\n"
     ]
    }
   ],
   "source": [
    "# we can see that there are some null values in AG Ratio\n",
    "df['AG Ratio'].fillna(value=0, inplace=True)\n",
    "\n",
    "# check now\n",
    "df.info()"
   ]
  },
  {
   "cell_type": "markdown",
   "metadata": {},
   "source": [
    "## split data into training & testing set"
   ]
  },
  {
   "cell_type": "code",
   "execution_count": 10,
   "metadata": {},
   "outputs": [
    {
     "data": {
      "text/html": [
       "<div>\n",
       "<style scoped>\n",
       "    .dataframe tbody tr th:only-of-type {\n",
       "        vertical-align: middle;\n",
       "    }\n",
       "\n",
       "    .dataframe tbody tr th {\n",
       "        vertical-align: top;\n",
       "    }\n",
       "\n",
       "    .dataframe thead th {\n",
       "        text-align: right;\n",
       "    }\n",
       "</style>\n",
       "<table border=\"1\" class=\"dataframe\">\n",
       "  <thead>\n",
       "    <tr style=\"text-align: right;\">\n",
       "      <th></th>\n",
       "      <th>Age</th>\n",
       "      <th>TB</th>\n",
       "      <th>DB</th>\n",
       "      <th>ALKPHOS</th>\n",
       "      <th>SGPT</th>\n",
       "      <th>SGOT</th>\n",
       "      <th>TP</th>\n",
       "      <th>ALB</th>\n",
       "      <th>AG Ratio</th>\n",
       "      <th>Gender_Female</th>\n",
       "      <th>Gender_Male</th>\n",
       "    </tr>\n",
       "  </thead>\n",
       "  <tbody>\n",
       "    <tr>\n",
       "      <th>552</th>\n",
       "      <td>45</td>\n",
       "      <td>0.6</td>\n",
       "      <td>0.1</td>\n",
       "      <td>196</td>\n",
       "      <td>29</td>\n",
       "      <td>30</td>\n",
       "      <td>5.8</td>\n",
       "      <td>2.9</td>\n",
       "      <td>1.0</td>\n",
       "      <td>0</td>\n",
       "      <td>1</td>\n",
       "    </tr>\n",
       "    <tr>\n",
       "      <th>99</th>\n",
       "      <td>18</td>\n",
       "      <td>0.7</td>\n",
       "      <td>0.1</td>\n",
       "      <td>312</td>\n",
       "      <td>308</td>\n",
       "      <td>405</td>\n",
       "      <td>6.9</td>\n",
       "      <td>3.7</td>\n",
       "      <td>1.1</td>\n",
       "      <td>0</td>\n",
       "      <td>1</td>\n",
       "    </tr>\n",
       "    <tr>\n",
       "      <th>526</th>\n",
       "      <td>46</td>\n",
       "      <td>9.4</td>\n",
       "      <td>5.2</td>\n",
       "      <td>268</td>\n",
       "      <td>21</td>\n",
       "      <td>63</td>\n",
       "      <td>6.4</td>\n",
       "      <td>2.8</td>\n",
       "      <td>0.8</td>\n",
       "      <td>0</td>\n",
       "      <td>1</td>\n",
       "    </tr>\n",
       "    <tr>\n",
       "      <th>53</th>\n",
       "      <td>38</td>\n",
       "      <td>1.1</td>\n",
       "      <td>0.3</td>\n",
       "      <td>198</td>\n",
       "      <td>86</td>\n",
       "      <td>150</td>\n",
       "      <td>6.3</td>\n",
       "      <td>3.5</td>\n",
       "      <td>1.2</td>\n",
       "      <td>0</td>\n",
       "      <td>1</td>\n",
       "    </tr>\n",
       "    <tr>\n",
       "      <th>579</th>\n",
       "      <td>40</td>\n",
       "      <td>0.6</td>\n",
       "      <td>0.1</td>\n",
       "      <td>98</td>\n",
       "      <td>35</td>\n",
       "      <td>31</td>\n",
       "      <td>6.0</td>\n",
       "      <td>3.2</td>\n",
       "      <td>1.1</td>\n",
       "      <td>0</td>\n",
       "      <td>1</td>\n",
       "    </tr>\n",
       "  </tbody>\n",
       "</table>\n",
       "</div>"
      ],
      "text/plain": [
       "     Age   TB   DB  ALKPHOS  SGPT  SGOT   TP  ALB  AG Ratio  Gender_Female  \\\n",
       "552   45  0.6  0.1      196    29    30  5.8  2.9       1.0              0   \n",
       "99    18  0.7  0.1      312   308   405  6.9  3.7       1.1              0   \n",
       "526   46  9.4  5.2      268    21    63  6.4  2.8       0.8              0   \n",
       "53    38  1.1  0.3      198    86   150  6.3  3.5       1.2              0   \n",
       "579   40  0.6  0.1       98    35    31  6.0  3.2       1.1              0   \n",
       "\n",
       "     Gender_Male  \n",
       "552            1  \n",
       "99             1  \n",
       "526            1  \n",
       "53             1  \n",
       "579            1  "
      ]
     },
     "execution_count": 10,
     "metadata": {},
     "output_type": "execute_result"
    }
   ],
   "source": [
    "# shuffle data\n",
    "df = shuffle(df)\n",
    "\n",
    "# split data into feture set X and labels y\n",
    "X = df.drop('selector', axis=1)\n",
    "y = df['selector']\n",
    "\n",
    "# show first five cols of feature set\n",
    "X.head()"
   ]
  },
  {
   "cell_type": "code",
   "execution_count": 11,
   "metadata": {},
   "outputs": [
    {
     "data": {
      "text/plain": [
       "array([1, 2])"
      ]
     },
     "execution_count": 11,
     "metadata": {},
     "output_type": "execute_result"
    }
   ],
   "source": [
    "# show unique labels\n",
    "y.unique()"
   ]
  },
  {
   "cell_type": "code",
   "execution_count": 12,
   "metadata": {},
   "outputs": [],
   "source": [
    "# set number of test samples\n",
    "test_size = 0.30\n",
    "X_train, X_test, y_train, y_test = train_test_split(X, y, test_size = test_size)"
   ]
  },
  {
   "cell_type": "code",
   "execution_count": 13,
   "metadata": {},
   "outputs": [
    {
     "name": "stdout",
     "output_type": "stream",
     "text": [
      "Number of test samples:  175\n"
     ]
    }
   ],
   "source": [
    "print(\"Number of test samples: \", X_test.shape[0])"
   ]
  },
  {
   "cell_type": "markdown",
   "metadata": {},
   "source": [
    "## feature scaling"
   ]
  },
  {
   "cell_type": "code",
   "execution_count": 14,
   "metadata": {},
   "outputs": [
    {
     "data": {
      "text/html": [
       "<div>\n",
       "<style scoped>\n",
       "    .dataframe tbody tr th:only-of-type {\n",
       "        vertical-align: middle;\n",
       "    }\n",
       "\n",
       "    .dataframe tbody tr th {\n",
       "        vertical-align: top;\n",
       "    }\n",
       "\n",
       "    .dataframe thead th {\n",
       "        text-align: right;\n",
       "    }\n",
       "</style>\n",
       "<table border=\"1\" class=\"dataframe\">\n",
       "  <thead>\n",
       "    <tr style=\"text-align: right;\">\n",
       "      <th></th>\n",
       "      <th>Age</th>\n",
       "      <th>TB</th>\n",
       "      <th>DB</th>\n",
       "      <th>ALKPHOS</th>\n",
       "      <th>SGPT</th>\n",
       "      <th>SGOT</th>\n",
       "      <th>TP</th>\n",
       "      <th>ALB</th>\n",
       "      <th>AG Ratio</th>\n",
       "      <th>Gender_Female</th>\n",
       "      <th>Gender_Male</th>\n",
       "    </tr>\n",
       "  </thead>\n",
       "  <tbody>\n",
       "    <tr>\n",
       "      <th>0</th>\n",
       "      <td>-0.099974</td>\n",
       "      <td>0.890144</td>\n",
       "      <td>1.141330</td>\n",
       "      <td>-0.085655</td>\n",
       "      <td>-0.263134</td>\n",
       "      <td>-0.156471</td>\n",
       "      <td>-0.659094</td>\n",
       "      <td>-1.481784</td>\n",
       "      <td>-1.408592</td>\n",
       "      <td>-0.581124</td>\n",
       "      <td>0.581124</td>\n",
       "    </tr>\n",
       "    <tr>\n",
       "      <th>1</th>\n",
       "      <td>-1.093325</td>\n",
       "      <td>-0.408879</td>\n",
       "      <td>-0.483504</td>\n",
       "      <td>-0.705339</td>\n",
       "      <td>-0.347885</td>\n",
       "      <td>-0.281906</td>\n",
       "      <td>-3.414321</td>\n",
       "      <td>-1.985381</td>\n",
       "      <td>1.119670</td>\n",
       "      <td>-0.581124</td>\n",
       "      <td>0.581124</td>\n",
       "    </tr>\n",
       "    <tr>\n",
       "      <th>2</th>\n",
       "      <td>0.272532</td>\n",
       "      <td>-0.361927</td>\n",
       "      <td>-0.446576</td>\n",
       "      <td>-0.456700</td>\n",
       "      <td>-0.300213</td>\n",
       "      <td>-0.177887</td>\n",
       "      <td>-0.934616</td>\n",
       "      <td>-0.600490</td>\n",
       "      <td>-0.144461</td>\n",
       "      <td>1.720804</td>\n",
       "      <td>-1.720804</td>\n",
       "    </tr>\n",
       "    <tr>\n",
       "      <th>3</th>\n",
       "      <td>-0.099974</td>\n",
       "      <td>-0.424530</td>\n",
       "      <td>-0.483504</td>\n",
       "      <td>-0.506428</td>\n",
       "      <td>0.393688</td>\n",
       "      <td>-0.012680</td>\n",
       "      <td>1.453248</td>\n",
       "      <td>1.036200</td>\n",
       "      <td>-0.144461</td>\n",
       "      <td>1.720804</td>\n",
       "      <td>-1.720804</td>\n",
       "    </tr>\n",
       "    <tr>\n",
       "      <th>4</th>\n",
       "      <td>1.327967</td>\n",
       "      <td>-0.377577</td>\n",
       "      <td>-0.446576</td>\n",
       "      <td>-0.357245</td>\n",
       "      <td>-0.331994</td>\n",
       "      <td>-0.275787</td>\n",
       "      <td>-1.026457</td>\n",
       "      <td>-0.348691</td>\n",
       "      <td>0.487604</td>\n",
       "      <td>-0.581124</td>\n",
       "      <td>0.581124</td>\n",
       "    </tr>\n",
       "  </tbody>\n",
       "</table>\n",
       "</div>"
      ],
      "text/plain": [
       "        Age        TB        DB   ALKPHOS      SGPT      SGOT        TP  \\\n",
       "0 -0.099974  0.890144  1.141330 -0.085655 -0.263134 -0.156471 -0.659094   \n",
       "1 -1.093325 -0.408879 -0.483504 -0.705339 -0.347885 -0.281906 -3.414321   \n",
       "2  0.272532 -0.361927 -0.446576 -0.456700 -0.300213 -0.177887 -0.934616   \n",
       "3 -0.099974 -0.424530 -0.483504 -0.506428  0.393688 -0.012680  1.453248   \n",
       "4  1.327967 -0.377577 -0.446576 -0.357245 -0.331994 -0.275787 -1.026457   \n",
       "\n",
       "        ALB  AG Ratio  Gender_Female  Gender_Male  \n",
       "0 -1.481784 -1.408592      -0.581124     0.581124  \n",
       "1 -1.985381  1.119670      -0.581124     0.581124  \n",
       "2 -0.600490 -0.144461       1.720804    -1.720804  \n",
       "3  1.036200 -0.144461       1.720804    -1.720804  \n",
       "4 -0.348691  0.487604      -0.581124     0.581124  "
      ]
     },
     "execution_count": 14,
     "metadata": {},
     "output_type": "execute_result"
    }
   ],
   "source": [
    "# we can see that the ranges of particular features are very different\n",
    "# we need to scale those features to fix that\n",
    "scaler = StandardScaler()\n",
    "\n",
    "X_train_before = X_train.copy(deep=True)\n",
    "\n",
    "# fit only for training data\n",
    "scaler.fit(X_train)\n",
    "\n",
    "# transform training and testing data\n",
    "X_train = scaler.transform(X_train)\n",
    "X_test = scaler.transform(X_test)\n",
    "\n",
    "X_train = pd.DataFrame(X_train, columns=X_train_before.columns)\n",
    "X_train.head()"
   ]
  },
  {
   "cell_type": "code",
   "execution_count": 15,
   "metadata": {},
   "outputs": [
    {
     "data": {
      "image/png": "[encoded data removed]",
      "text/plain": [
       "<Figure size 720x720 with 2 Axes>"
      ]
     },
     "metadata": {
      "needs_background": "light"
     },
     "output_type": "display_data"
    }
   ],
   "source": [
    "# show difference\n",
    "labels = X_train_before.columns\n",
    "fig, (ax1, ax2) = plt.subplots(nrows=2, figsize=(10, 10))\n",
    "\n",
    "ax1.set_title('Before Scaling')\n",
    "sns.kdeplot(X_train_before['Age'], ax=ax1)\n",
    "sns.kdeplot(X_train_before['TB'], ax=ax1)\n",
    "sns.kdeplot(X_train_before['DB'], ax=ax1)\n",
    "sns.kdeplot(X_train_before['ALKPHOS'], ax=ax1)\n",
    "sns.kdeplot(X_train_before['SGPT'], ax=ax1)\n",
    "sns.kdeplot(X_train_before['SGOT'], ax=ax1)\n",
    "sns.kdeplot(X_train_before['TP'], ax=ax1)\n",
    "sns.kdeplot(X_train_before['ALB'], ax=ax1)\n",
    "sns.kdeplot(X_train_before['AG Ratio'], ax=ax1)\n",
    "sns.kdeplot(X_train_before['Gender_Female'], ax=ax1)\n",
    "sns.kdeplot(X_train_before['Gender_Male'], ax=ax1)\n",
    "\n",
    "ax2.set_title('After Standard Scaler')\n",
    "sns.kdeplot(X_train['TB'], ax=ax2)\n",
    "sns.kdeplot(X_train['DB'], ax=ax2)\n",
    "sns.kdeplot(X_train['ALKPHOS'], ax=ax2)\n",
    "sns.kdeplot(X_train['SGPT'], ax=ax2)\n",
    "sns.kdeplot(X_train['SGOT'], ax=ax2)\n",
    "sns.kdeplot(X_train['TP'], ax=ax2)\n",
    "sns.kdeplot(X_train['ALB'], ax=ax2)\n",
    "sns.kdeplot(X_train['AG Ratio'], ax=ax2)\n",
    "sns.kdeplot(X_train['Gender_Female'], ax=ax2)\n",
    "sns.kdeplot(X_train['Gender_Male'], ax=ax2)\n",
    "\n",
    "plt.show()"
   ]
  },
  {
   "cell_type": "markdown",
   "metadata": {},
   "source": [
    "# Feature selection"
   ]
  },
  {
   "cell_type": "markdown",
   "metadata": {},
   "source": [
    "## check correlations between the features heatmap"
   ]
  },
  {
   "cell_type": "code",
   "execution_count": 16,
   "metadata": {},
   "outputs": [
    {
     "data": {
      "text/plain": [
       "<matplotlib.axes._subplots.AxesSubplot at 0x1a1fde5b90>"
      ]
     },
     "execution_count": 16,
     "metadata": {},
     "output_type": "execute_result"
    },
    {
     "data": {
      "image/png": "[encoded data removed]",
      "text/plain": [
       "<Figure size 864x720 with 2 Axes>"
      ]
     },
     "metadata": {
      "needs_background": "light"
     },
     "output_type": "display_data"
    }
   ],
   "source": [
    "# Set up the matplotlib figure\n",
    "f, ax = plt.subplots(figsize=(12, 10))\n",
    "plt.title('Pearson Correlation of liver disease Features')\n",
    "\n",
    "# Draw the heatmap using seaborn\n",
    "sns.heatmap(X_train.astype(float).corr(),linewidths=0.25,vmax=1.0, square=True, cmap=\"YlGnBu\", linecolor='black',annot=True)"
   ]
  },
  {
   "cell_type": "markdown",
   "metadata": {},
   "source": [
    "As we can see above:\n",
    "- DB & TB\n",
    "- SGOT & SGPT\n",
    "- ALB & TP\n",
    "\n",
    "are highly correlated. Now we need to make a feature ranking to decide what features we want to use in classification."
   ]
  },
  {
   "cell_type": "markdown",
   "metadata": {},
   "source": [
    "# Training and predictions"
   ]
  },
  {
   "cell_type": "code",
   "execution_count": 17,
   "metadata": {},
   "outputs": [],
   "source": [
    "# create 2 layers of 20 nodes each + 2000 iterations\n",
    "mlp = MLPClassifier(solver='adam', hidden_layer_sizes=(20), max_iter=2000, activation='tanh', learning_rate_init=0.02)\n",
    "\n",
    "# train algorithm on training data\n",
    "mlp.fit(X_train, y_train.values.ravel())\n",
    "\n",
    "# make predictions\n",
    "predictions = mlp.predict(X_test)\n",
    "\n",
    "# accuracy score\n",
    "acc = accuracy_score(y_test, predictions)"
   ]
  },
  {
   "cell_type": "markdown",
   "metadata": {},
   "source": [
    "# Check the results"
   ]
  },
  {
   "cell_type": "code",
   "execution_count": 18,
   "metadata": {},
   "outputs": [
    {
     "name": "stdout",
     "output_type": "stream",
     "text": [
      "[[121   7]\n",
      " [ 33  14]]\n",
      "              precision    recall  f1-score   support\n",
      "\n",
      "           1       0.79      0.95      0.86       128\n",
      "           2       0.67      0.30      0.41        47\n",
      "\n",
      "    accuracy                           0.77       175\n",
      "   macro avg       0.73      0.62      0.63       175\n",
      "weighted avg       0.75      0.77      0.74       175\n",
      "\n",
      "Accuracy Using MLP: 0.7714285714285715\n",
      "\n"
     ]
    }
   ],
   "source": [
    "print(confusion_matrix(y_test,predictions))\n",
    "print(classification_report(y_test, predictions))\n",
    "print(\"Accuracy Using MLP: \" + str(acc)+'\\n')"
   ]
  },
  {
   "cell_type": "code",
   "execution_count": 27,
   "metadata": {},
   "outputs": [
    {
     "data": {
      "text/html": [
       "<div>\n",
       "<style scoped>\n",
       "    .dataframe tbody tr th:only-of-type {\n",
       "        vertical-align: middle;\n",
       "    }\n",
       "\n",
       "    .dataframe tbody tr th {\n",
       "        vertical-align: top;\n",
       "    }\n",
       "\n",
       "    .dataframe thead th {\n",
       "        text-align: right;\n",
       "    }\n",
       "</style>\n",
       "<table border=\"1\" class=\"dataframe\">\n",
       "  <thead>\n",
       "    <tr style=\"text-align: right;\">\n",
       "      <th></th>\n",
       "      <th>DB</th>\n",
       "      <th>TB</th>\n",
       "      <th>SGOT</th>\n",
       "      <th>SGPT</th>\n",
       "      <th>ALB</th>\n",
       "      <th>TP</th>\n",
       "    </tr>\n",
       "  </thead>\n",
       "  <tbody>\n",
       "    <tr>\n",
       "      <th>0</th>\n",
       "      <td>1.141330</td>\n",
       "      <td>0.890144</td>\n",
       "      <td>-0.156471</td>\n",
       "      <td>-0.263134</td>\n",
       "      <td>-1.481784</td>\n",
       "      <td>-0.659094</td>\n",
       "    </tr>\n",
       "    <tr>\n",
       "      <th>1</th>\n",
       "      <td>-0.483504</td>\n",
       "      <td>-0.408879</td>\n",
       "      <td>-0.281906</td>\n",
       "      <td>-0.347885</td>\n",
       "      <td>-1.985381</td>\n",
       "      <td>-3.414321</td>\n",
       "    </tr>\n",
       "    <tr>\n",
       "      <th>2</th>\n",
       "      <td>-0.446576</td>\n",
       "      <td>-0.361927</td>\n",
       "      <td>-0.177887</td>\n",
       "      <td>-0.300213</td>\n",
       "      <td>-0.600490</td>\n",
       "      <td>-0.934616</td>\n",
       "    </tr>\n",
       "    <tr>\n",
       "      <th>3</th>\n",
       "      <td>-0.483504</td>\n",
       "      <td>-0.424530</td>\n",
       "      <td>-0.012680</td>\n",
       "      <td>0.393688</td>\n",
       "      <td>1.036200</td>\n",
       "      <td>1.453248</td>\n",
       "    </tr>\n",
       "    <tr>\n",
       "      <th>4</th>\n",
       "      <td>-0.446576</td>\n",
       "      <td>-0.377577</td>\n",
       "      <td>-0.275787</td>\n",
       "      <td>-0.331994</td>\n",
       "      <td>-0.348691</td>\n",
       "      <td>-1.026457</td>\n",
       "    </tr>\n",
       "  </tbody>\n",
       "</table>\n",
       "</div>"
      ],
      "text/plain": [
       "         DB        TB      SGOT      SGPT       ALB        TP\n",
       "0  1.141330  0.890144 -0.156471 -0.263134 -1.481784 -0.659094\n",
       "1 -0.483504 -0.408879 -0.281906 -0.347885 -1.985381 -3.414321\n",
       "2 -0.446576 -0.361927 -0.177887 -0.300213 -0.600490 -0.934616\n",
       "3 -0.483504 -0.424530 -0.012680  0.393688  1.036200  1.453248\n",
       "4 -0.446576 -0.377577 -0.275787 -0.331994 -0.348691 -1.026457"
      ]
     },
     "execution_count": 27,
     "metadata": {},
     "output_type": "execute_result"
    }
   ],
   "source": [
    "X_train = pd.DataFrame(X_train)\n",
    "X_test = pd.DataFrame(X_test)\n",
    "\n",
    "new_X_train = X_train.filter(['DB', 'TB', 'SGOT', 'SGPT', 'ALB', 'TP'], axis=1)\n",
    "new_X_test = X_test.filter(['DB', 'TB', 'SGOT', 'SGPT', 'ALB', 'TP'], axis=1)\n",
    "\n",
    "\n",
    "new_X_train.head()"
   ]
  },
  {
   "cell_type": "code",
   "execution_count": 71,
   "metadata": {},
   "outputs": [
    {
     "name": "stdout",
     "output_type": "stream",
     "text": [
      "[[113  15]\n",
      " [ 24  23]]\n",
      "              precision    recall  f1-score   support\n",
      "\n",
      "           1       0.82      0.88      0.85       128\n",
      "           2       0.61      0.49      0.54        47\n",
      "\n",
      "    accuracy                           0.78       175\n",
      "   macro avg       0.72      0.69      0.70       175\n",
      "weighted avg       0.77      0.78      0.77       175\n",
      "\n",
      "Accuracy Using MLP: 0.7771428571428571\n",
      "\n"
     ]
    }
   ],
   "source": [
    "# create 2 layers of 20 nodes each + 2000 iterations\n",
    "mlp = MLPClassifier(solver='adam', hidden_layer_sizes=(30), max_iter=4000, activation='tanh', learning_rate_init=0.02)\n",
    "\n",
    "# train algorithm on training data\n",
    "mlp.fit(X_train, y_train.values.ravel())\n",
    "\n",
    "# make predictions\n",
    "predictions = mlp.predict(X_test)\n",
    "\n",
    "# accuracy score\n",
    "acc = accuracy_score(y_test, predictions)\n",
    "\n",
    "print(confusion_matrix(y_test,predictions))\n",
    "print(classification_report(y_test, predictions))\n",
    "print(\"Accuracy Using MLP: \" + str(acc)+'\\n')"
   ]
  },
  {
   "cell_type": "code",
   "execution_count": null,
   "metadata": {},
   "outputs": [],
   "source": []
  },
  {
   "cell_type": "code",
   "execution_count": null,
   "metadata": {},
   "outputs": [],
   "source": []
  }
 ],
 "metadata": {
  "kernelspec": {
   "display_name": "Python 3",
   "language": "python",
   "name": "python3"
  },
  "language_info": {
   "codemirror_mode": {
    "name": "ipython",
    "version": 3
   },
   "file_extension": ".py",
   "mimetype": "text/x-python",
   "name": "python",
   "nbconvert_exporter": "python",
   "pygments_lexer": "ipython3",
   "version": "3.7.6"
  }
 },
 "nbformat": 4,
 "nbformat_minor": 4
}
